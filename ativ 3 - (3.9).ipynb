{
 "cells": [
  {
   "cell_type": "markdown",
   "id": "e0616ad0-3d1e-436f-a09b-bb66a9afd7b2",
   "metadata": {},
   "source": [
    "**Controle estatístico de processo**\n",
    "\n",
    "Atividade-4_3-10 (Jupyter)"
   ]
  },
  {
   "cell_type": "code",
   "execution_count": 1,
   "id": "a7e398cf",
   "metadata": {},
   "outputs": [],
   "source": [
    "#Importando as bibliotecas\n",
    "\n",
    "import pandas as pd\n",
    "import matplotlib.pyplot as plt\n",
    "import statsmodels.api as sm\n",
    "from scipy import stats\n",
    "import seaborn as sns\n",
    "import numpy as np\n",
    "from numpy.polynomial.polynomial import Polynomial"
   ]
  },
  {
   "cell_type": "code",
   "execution_count": 3,
   "id": "8a687463",
   "metadata": {},
   "outputs": [
    {
     "data": {
      "text/html": [
       "<div>\n",
       "<style scoped>\n",
       "    .dataframe tbody tr th:only-of-type {\n",
       "        vertical-align: middle;\n",
       "    }\n",
       "\n",
       "    .dataframe tbody tr th {\n",
       "        vertical-align: top;\n",
       "    }\n",
       "\n",
       "    .dataframe thead th {\n",
       "        text-align: right;\n",
       "    }\n",
       "</style>\n",
       "<table border=\"1\" class=\"dataframe\">\n",
       "  <thead>\n",
       "    <tr style=\"text-align: right;\">\n",
       "      <th></th>\n",
       "      <th>Exerc3-1</th>\n",
       "      <th>Exerc3-2</th>\n",
       "      <th>Exerc3-3</th>\n",
       "      <th>Exerc3-4</th>\n",
       "      <th>Exerc3-5</th>\n",
       "      <th>Exerc3-7</th>\n",
       "      <th>Exerc3-8 / Tabela 3E.1</th>\n",
       "      <th>Exerc3-9 / Tabela 3E.2</th>\n",
       "      <th>Exerc3-10 / Tabela 3E.3</th>\n",
       "      <th>Exerc3-16 / Tabela 3E.4</th>\n",
       "      <th>Exerc3-17 / Tabela 3E.5</th>\n",
       "    </tr>\n",
       "  </thead>\n",
       "  <tbody>\n",
       "    <tr>\n",
       "      <th>0</th>\n",
       "      <td>16.05</td>\n",
       "      <td>50.001</td>\n",
       "      <td>21.0</td>\n",
       "      <td>6.0</td>\n",
       "      <td>953.0</td>\n",
       "      <td>96.0</td>\n",
       "      <td>127.0</td>\n",
       "      <td>94.1</td>\n",
       "      <td>13.3</td>\n",
       "      <td>8078.0</td>\n",
       "      <td>0.78</td>\n",
       "    </tr>\n",
       "    <tr>\n",
       "      <th>1</th>\n",
       "      <td>16.03</td>\n",
       "      <td>50.002</td>\n",
       "      <td>136.0</td>\n",
       "      <td>26.0</td>\n",
       "      <td>955.0</td>\n",
       "      <td>102.0</td>\n",
       "      <td>125.0</td>\n",
       "      <td>93.2</td>\n",
       "      <td>14.5</td>\n",
       "      <td>1891.0</td>\n",
       "      <td>9.59</td>\n",
       "    </tr>\n",
       "    <tr>\n",
       "      <th>2</th>\n",
       "      <td>16.02</td>\n",
       "      <td>49.998</td>\n",
       "      <td>185.0</td>\n",
       "      <td>8.0</td>\n",
       "      <td>948.0</td>\n",
       "      <td>104.0</td>\n",
       "      <td>131.0</td>\n",
       "      <td>90.6</td>\n",
       "      <td>15.3</td>\n",
       "      <td>13912.0</td>\n",
       "      <td>2.26</td>\n",
       "    </tr>\n",
       "    <tr>\n",
       "      <th>3</th>\n",
       "      <td>16.04</td>\n",
       "      <td>50.006</td>\n",
       "      <td>156.0</td>\n",
       "      <td>2.0</td>\n",
       "      <td>951.0</td>\n",
       "      <td>108.0</td>\n",
       "      <td>124.0</td>\n",
       "      <td>91.4</td>\n",
       "      <td>15.3</td>\n",
       "      <td>3407.0</td>\n",
       "      <td>8.13</td>\n",
       "    </tr>\n",
       "    <tr>\n",
       "      <th>4</th>\n",
       "      <td>16.05</td>\n",
       "      <td>50.005</td>\n",
       "      <td>3.0</td>\n",
       "      <td>6.0</td>\n",
       "      <td>957.0</td>\n",
       "      <td>126.0</td>\n",
       "      <td>129.0</td>\n",
       "      <td>88.2</td>\n",
       "      <td>14.3</td>\n",
       "      <td>6168.0</td>\n",
       "      <td>3.16</td>\n",
       "    </tr>\n",
       "  </tbody>\n",
       "</table>\n",
       "</div>"
      ],
      "text/plain": [
       "   Exerc3-1  Exerc3-2  Exerc3-3  Exerc3-4  Exerc3-5  Exerc3-7  \\\n",
       "0     16.05    50.001      21.0       6.0     953.0      96.0   \n",
       "1     16.03    50.002     136.0      26.0     955.0     102.0   \n",
       "2     16.02    49.998     185.0       8.0     948.0     104.0   \n",
       "3     16.04    50.006     156.0       2.0     951.0     108.0   \n",
       "4     16.05    50.005       3.0       6.0     957.0     126.0   \n",
       "\n",
       "   Exerc3-8 / Tabela 3E.1  Exerc3-9 / Tabela 3E.2  Exerc3-10 / Tabela 3E.3  \\\n",
       "0                   127.0                    94.1                     13.3   \n",
       "1                   125.0                    93.2                     14.5   \n",
       "2                   131.0                    90.6                     15.3   \n",
       "3                   124.0                    91.4                     15.3   \n",
       "4                   129.0                    88.2                     14.3   \n",
       "\n",
       "   Exerc3-16 / Tabela 3E.4  Exerc3-17 / Tabela 3E.5  \n",
       "0                   8078.0                     0.78  \n",
       "1                   1891.0                     9.59  \n",
       "2                  13912.0                     2.26  \n",
       "3                   3407.0                     8.13  \n",
       "4                   6168.0                     3.16  "
      ]
     },
     "execution_count": 3,
     "metadata": {},
     "output_type": "execute_result"
    }
   ],
   "source": [
    "# Caminho para o arquivo Excel (substitua 'caminho_para_o_arquivo.xlsx' pelo caminho real do seu arquivo)\n",
    "caminho_do_arquivo = 'Cap-03.xlsx'\n",
    "\n",
    "# Ler o arquivo Excel\n",
    "df = pd.read_excel(caminho_do_arquivo)\n",
    "\n",
    "# Mostrar as primeiras linhas do arquivo\n",
    "df.head()"
   ]
  },
  {
   "cell_type": "code",
   "execution_count": 4,
   "id": "aa0dbb58",
   "metadata": {},
   "outputs": [
    {
     "name": "stdout",
     "output_type": "stream",
     "text": [
      "Média: 89.4755555555556\n",
      "Desvio Padrão: 4.157768175926127\n"
     ]
    }
   ],
   "source": [
    "coluna = df['Exerc3-9 / Tabela 3E.2'].dropna()\n",
    "\n",
    "media = coluna.mean()\n",
    "print(f\"Média: {media}\")\n",
    "\n",
    "desvio_padrao = coluna.std()\n",
    "print(f\"Desvio Padrão: {desvio_padrao}\")"
   ]
  },
  {
   "cell_type": "code",
   "execution_count": 13,
   "id": "0a96ca31",
   "metadata": {},
   "outputs": [
    {
     "data": {
      "image/png": "[encoded data removed]",
      "text/plain": [
       "<Figure size 576x432 with 1 Axes>"
      ]
     },
     "metadata": {
      "needs_background": "light"
     },
     "output_type": "display_data"
    }
   ],
   "source": [
    "# Passo: Selecionar a coluna numérica de interesse\n",
    "# Substitua 'Nome_da_Coluna' pelo nome da coluna que deseja usar para criar a distribuição\n",
    "y = coluna\n",
    "\n",
    "# Passo: Criar o gráfico de distribuição normal\n",
    "plt.figure(figsize=(8, 6))\n",
    "plt.hist(coluna, bins=30, density=True, alpha=0.6, color='b')\n",
    "\n",
    "# Calcular a média e o desvio padrão da coluna\n",
    "media = np.mean(coluna)\n",
    "desvio_padrao = np.std(coluna)\n",
    "\n",
    "# Gerar o gráfico da curva normal teórica\n",
    "x = np.linspace(min(coluna), max(coluna), 100)\n",
    "y = (1 / (np.sqrt(2 * np.pi) * desvio_padrao)) * np.exp(-0.5 * ((x - media) / desvio_padrao) ** 2)\n",
    "plt.plot(x, y, 'r', linewidth=2)\n",
    "\n",
    "# Configurar o título e os rótulos dos eixos\n",
    "plt.title('Distribuição Normal da Coluna')\n",
    "plt.xlabel('Valor')\n",
    "plt.ylabel('Densidade')\n",
    "\n",
    "# Mostrar o gráfico\n",
    "plt.show()"
   ]
  },
  {
   "cell_type": "code",
   "execution_count": 16,
   "id": "d377599b",
   "metadata": {},
   "outputs": [
    {
     "data": {
      "image/png": "[encoded data removed]",
      "text/plain": [
       "<Figure size 432x288 with 1 Axes>"
      ]
     },
     "metadata": {
      "needs_background": "light"
     },
     "output_type": "display_data"
    }
   ],
   "source": [
    "# Supondo que os dados do tempo de falha estão na primeira coluna\n",
    "tempo_falha = coluna.values  # Pegando os valores da primeira coluna\n",
    "\n",
    "# Criando o gráfico de probabilidade normal\n",
    "stats.probplot(tempo_falha, dist=\"norm\", plot=plt)\n",
    "\n",
    "# Rótulos e título\n",
    "plt.title(\"Gráfico de Probabilidade Normal - Tempo de Falha\")\n",
    "plt.xlabel(\"Quantis Teóricos\")\n",
    "plt.ylabel(\"Quantis Amostrais\")\n",
    "\n",
    "# Exibindo o gráfico\n",
    "plt.show()"
   ]
  },
  {
   "cell_type": "code",
   "execution_count": 18,
   "id": "4f355205",
   "metadata": {},
   "outputs": [
    {
     "name": "stdout",
     "output_type": "stream",
     "text": [
      "Estatística do Teste - Anderson-Darling: 2.1778053161744566\n",
      "Valores Críticos: [0.555 0.632 0.759 0.885 1.053]\n",
      "Níveis de Significância: [15.  10.   5.   2.5  1. ]\n",
      "A 15.0% de nível de significância: Os dados NÃO seguem uma distribuição normal.\n",
      "A 10.0% de nível de significância: Os dados NÃO seguem uma distribuição normal.\n",
      "A 5.0% de nível de significância: Os dados NÃO seguem uma distribuição normal.\n",
      "A 2.5% de nível de significância: Os dados NÃO seguem uma distribuição normal.\n",
      "A 1.0% de nível de significância: Os dados NÃO seguem uma distribuição normal.\n"
     ]
    }
   ],
   "source": [
    "# Realizando o teste Anderson-Darling para a normalidade\n",
    "resultado = stats.anderson(y, dist='norm')\n",
    "\n",
    "# Exibindo o resultado do teste\n",
    "print('Estatística do Teste - Anderson-Darling:', resultado.statistic)\n",
    "print('Valores Críticos:', resultado.critical_values)\n",
    "print('Níveis de Significância:', resultado.significance_level)\n",
    "\n",
    "# Interpretação do teste:\n",
    "for i in range(len(resultado.critical_values)):\n",
    "    sl, cv = resultado.significance_level[i], resultado.critical_values[i]\n",
    "    if resultado.statistic < cv:\n",
    "        print(f\"A {sl}% de nível de significância: Os dados seguem uma distribuição normal.\")\n",
    "    else:\n",
    "        print(f\"A {sl}% de nível de significância: Os dados NÃO seguem uma distribuição normal.\")"
   ]
  },
  {
   "cell_type": "code",
   "execution_count": null,
   "id": "ca957686",
   "metadata": {},
   "outputs": [],
   "source": []
  }
 ],
 "metadata": {
  "kernelspec": {
   "display_name": "Python 3 (ipykernel)",
   "language": "python",
   "name": "python3"
  },
  "language_info": {
   "codemirror_mode": {
    "name": "ipython",
    "version": 3
   },
   "file_extension": ".py",
   "mimetype": "text/x-python",
   "name": "python",
   "nbconvert_exporter": "python",
   "pygments_lexer": "ipython3",
   "version": "3.12.4"
  }
 },
 "nbformat": 4,
 "nbformat_minor": 5
}
